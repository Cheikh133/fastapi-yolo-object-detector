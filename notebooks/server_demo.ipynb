{
 "cells": [
  {
   "cell_type": "markdown",
   "id": "6ad4caea-16cc-4703-bf59-819fefe0def4",
   "metadata": {},
   "source": [
    "## Install Dependencies  \n",
    "Install FastAPI, cvlib, image processing libraries, CPU-only TensorFlow, and the multipart parser required by FastAPI.\n",
    "\n",
    "```bash\n",
    "pip install fastapi uvicorn cvlib opencv-python numpy tensorflow-cpu python-multipart\n",
    "```"
   ]
  },
  {
   "cell_type": "markdown",
   "id": "d552e486-e1ab-4d6a-aba5-5fec68092fa2",
   "metadata": {},
   "source": [
    "## Imports and Application Setup\n",
    "Import required libraries and create the FastAPI application instance."
   ]
  },
  {
   "cell_type": "code",
   "execution_count": 24,
   "id": "8ad954c8-4500-432c-8bff-ff4ff090bdd1",
   "metadata": {},
   "outputs": [],
   "source": [
    "from fastapi import FastAPI, File, UploadFile\n",
    "from fastapi.responses import Response\n",
    "import cv2\n",
    "import cvlib as cv\n",
    "import numpy as np\n",
    "import uvicorn\n",
    "\n",
    "app = FastAPI(\n",
    "    title=\"YOLO Object Detector with cvlib\",\n",
    "    description=\"Detect objects using cvlib's YOLOv3-tiny wrapper via FastAPI\",\n",
    "    version=\"1.0\"\n",
    ")"
   ]
  },
  {
   "cell_type": "markdown",
   "id": "ee4f22cf-45b6-4c31-b377-6ca9b04e9458",
   "metadata": {},
   "source": [
    "## Define the /predict Endpoint\n",
    "Accept an uploaded image, run YOLO detection via cvlib, draw bounding boxes, and return the annotated image."
   ]
  },
  {
   "cell_type": "code",
   "execution_count": 25,
   "id": "d90dcd3a-0f8c-4fe2-aec2-c9c50add9857",
   "metadata": {},
   "outputs": [],
   "source": [
    "@app.post(\"/predict\")\n",
    "async def predict(file: UploadFile = File(...)):\n",
    "    \"\"\"\n",
    "    - Read uploaded image bytes\n",
    "    - Decode to OpenCV BGR image\n",
    "    - Perform object detection with cvlib.detect_common_objects (yolov3-tiny)\n",
    "    - Draw bounding boxes and labels\n",
    "    - Encode annotated image as JPEG and return it\n",
    "    \"\"\"\n",
    "    # Read file bytes into memory\n",
    "    contents = await file.read()\n",
    "    nparr = np.frombuffer(contents, np.uint8)\n",
    "    image = cv2.imdecode(nparr, cv2.IMREAD_COLOR)\n",
    "\n",
    "    # Perform object detection\n",
    "    bbox, labels, confidences = cv.detect_common_objects(image, model=\"yolov3-tiny\")\n",
    "\n",
    "    # Annotate image\n",
    "    output_image = cv.object_detection.draw_bbox(image, bbox, labels, confidences)\n",
    "\n",
    "    # Encode to JPEG\n",
    "    _, encoded = cv2.imencode(\".jpg\", output_image)\n",
    "    return Response(content=encoded.tobytes(), media_type=\"image/jpeg\")"
   ]
  },
  {
   "cell_type": "code",
   "execution_count": null,
   "id": "85ce3cdb-75f4-408f-95d8-4a5d8feec93f",
   "metadata": {},
   "outputs": [],
   "source": []
  }
 ],
 "metadata": {
  "kernelspec": {
   "display_name": "Python [conda env:base] *",
   "language": "python",
   "name": "conda-base-py"
  },
  "language_info": {
   "codemirror_mode": {
    "name": "ipython",
    "version": 3
   },
   "file_extension": ".py",
   "mimetype": "text/x-python",
   "name": "python",
   "nbconvert_exporter": "python",
   "pygments_lexer": "ipython3",
   "version": "3.12.7"
  }
 },
 "nbformat": 4,
 "nbformat_minor": 5
}
